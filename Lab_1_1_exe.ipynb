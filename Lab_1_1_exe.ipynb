{
  "nbformat": 4,
  "nbformat_minor": 0,
  "metadata": {
    "colab": {
      "name": "Lab_1_1_exe.ipynb",
      "provenance": [],
      "collapsed_sections": []
    },
    "kernelspec": {
      "name": "python3",
      "display_name": "Python 3"
    },
    "language_info": {
      "name": "python"
    }
  },
  "cells": [
    {
      "cell_type": "code",
      "metadata": {
        "colab": {
          "base_uri": "https://localhost:8080/"
        },
        "id": "YywiqRvTPlWa",
        "outputId": "8e236676-e96c-415a-f2c8-f3857ef5ec93"
      },
      "source": [
        "from google.colab import drive\n",
        "drive.mount(\"/content/drive\")"
      ],
      "execution_count": 2,
      "outputs": [
        {
          "output_type": "stream",
          "text": [
            "Mounted at /content/drive\n"
          ],
          "name": "stdout"
        }
      ]
    },
    {
      "cell_type": "code",
      "metadata": {
        "id": "HRhEPP95S63h"
      },
      "source": [
        "# import modules\n",
        "import pandas as pd\n",
        "import numpy as np\n",
        "import matplotlib.pyplot as plt"
      ],
      "execution_count": 3,
      "outputs": []
    },
    {
      "cell_type": "code",
      "metadata": {
        "id": "hekLhOsCTjxO"
      },
      "source": [
        "# reading data\n",
        "main_data = pd.read_csv('/content/drive/MyDrive/Data_for_Transformation.csv')"
      ],
      "execution_count": 4,
      "outputs": []
    },
    {
      "cell_type": "code",
      "metadata": {
        "colab": {
          "base_uri": "https://localhost:8080/",
          "height": 372
        },
        "id": "CRb3k9POeQm7",
        "outputId": "f20ca2d1-8a65-4cb4-addf-44d7657479f9"
      },
      "source": [
        "# printing head and scatter plot\n",
        "print(main_data.head())\n",
        "plt.scatter(main_data[\"Age\"], main_data[\"Salary\"])\n",
        "plt.show()"
      ],
      "execution_count": 5,
      "outputs": [
        {
          "output_type": "stream",
          "text": [
            "   Country  Age  Salary Purchased\n",
            "0   France   44   72000        No\n",
            "1    Spain   27   48000       Yes\n",
            "2  Germany   30   54000        No\n",
            "3    Spain   38   61000        No\n",
            "4  Germany   40   68000       Yes\n"
          ],
          "name": "stdout"
        },
        {
          "output_type": "display_data",
          "data": {
            "image/png": "[encoded data removed]",
            "text/plain": [
              "<Figure size 432x288 with 1 Axes>"
            ]
          },
          "metadata": {
            "tags": [],
            "needs_background": "light"
          }
        }
      ]
    },
    {
      "cell_type": "code",
      "metadata": {
        "colab": {
          "base_uri": "https://localhost:8080/",
          "height": 265
        },
        "id": "_lr4te43hYfD",
        "outputId": "0d75b386-129a-4397-ed5e-fbb9e7a76772"
      },
      "source": [
        "# 2nd plot\n",
        "plt.hist(main_data[\"Salary\"], bins = 10, color = \"green\")\n",
        "plt.show()"
      ],
      "execution_count": 6,
      "outputs": [
        {
          "output_type": "display_data",
          "data": {
            "image/png": "[encoded data removed]",
            "text/plain": [
              "<Figure size 432x288 with 1 Axes>"
            ]
          },
          "metadata": {
            "tags": [],
            "needs_background": "light"
          }
        }
      ]
    },
    {
      "cell_type": "code",
      "metadata": {
        "colab": {
          "base_uri": "https://localhost:8080/",
          "height": 350
        },
        "id": "Qgo7Tfb9hcDY",
        "outputId": "11b58baf-f56d-42b1-e6ed-9bc930146683"
      },
      "source": [
        "# 3rd plot\n",
        "fig_size = plt.figure(figsize=(7, 5))\n",
        "plt.bar(main_data[\"Country\"], main_data[\"Salary\"], color=\"blue\")\n",
        "plt.xlabel(\"Salaries\")\n",
        "plt.ylabel(\"Countries\")\n",
        "plt.title(\"Bar chart of country vs salary\")\n",
        "plt.show()"
      ],
      "execution_count": 7,
      "outputs": [
        {
          "output_type": "display_data",
          "data": {
            "image/png": "[encoded data removed]",
            "text/plain": [
              "<Figure size 504x360 with 1 Axes>"
            ]
          },
          "metadata": {
            "tags": [],
            "needs_background": "light"
          }
        }
      ]
    },
    {
      "cell_type": "code",
      "metadata": {
        "id": "8Zu9JcvJhnp2"
      },
      "source": [
        ""
      ],
      "execution_count": null,
      "outputs": []
    }
  ]
}