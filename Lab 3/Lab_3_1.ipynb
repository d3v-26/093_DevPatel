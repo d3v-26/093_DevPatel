{
  "nbformat": 4,
  "nbformat_minor": 0,
  "metadata": {
    "colab": {
      "name": "Lab_3_1.ipynb",
      "provenance": [],
      "collapsed_sections": []
    },
    "kernelspec": {
      "name": "python3",
      "display_name": "Python 3"
    },
    "language_info": {
      "name": "python"
    }
  },
  "cells": [
    {
      "cell_type": "markdown",
      "metadata": {
        "id": "ekLsSBrwUQ59"
      },
      "source": [
        "# Task 1: Try the algo on Dataset2 - OneHotEncoding of features and Train test Division 75%-25%"
      ]
    },
    {
      "cell_type": "code",
      "metadata": {
        "colab": {
          "base_uri": "https://localhost:8080/"
        },
        "id": "rasRmRjhO2_L",
        "outputId": "c5d2d0c1-4541-41fb-8ec3-2e09ffd57ac1"
      },
      "source": [
        "from google.colab import drive\n",
        "drive.mount(\"/content/drive\")"
      ],
      "execution_count": null,
      "outputs": [
        {
          "output_type": "stream",
          "name": "stdout",
          "text": [
            "Mounted at /content/drive\n"
          ]
        }
      ]
    },
    {
      "cell_type": "code",
      "metadata": {
        "colab": {
          "base_uri": "https://localhost:8080/"
        },
        "id": "gVRG9HHpOnvK",
        "outputId": "ac0f46d9-42b5-4544-c31c-5945afdf0e2f"
      },
      "source": [
        "import numpy as np \n",
        "import pandas as pd\n",
        "from sklearn.preprocessing import LabelEncoder,OneHotEncoder\n",
        "\n",
        "data = pd.read_csv(\"/content/drive/MyDrive/Dataset2.csv\")\n",
        "print(data)"
      ],
      "execution_count": null,
      "outputs": [
        {
          "output_type": "stream",
          "name": "stdout",
          "text": [
            "   Outlook Temp Wind Humidity Class\n",
            "0        R    H    F   Normal     N\n",
            "1        R    H    T     High     N\n",
            "2        O    H    F   Normal     Y\n",
            "3        S    M    F   Normal     N\n",
            "4        S    M    F   Normal     Y\n",
            "5        S    M    T      Low     Y\n",
            "6        O    C    T   Normal     Y\n",
            "7        R    C    F   Normal     Y\n",
            "8        R    C    F      Low     Y\n",
            "9        S    M    F     High     Y\n",
            "10       R    M    T     High     Y\n",
            "11       O    M    T      Low     Y\n",
            "12       O    H    F   Normal     Y\n",
            "13       S    M    T   Normal     N\n"
          ]
        }
      ]
    },
    {
      "cell_type": "code",
      "metadata": {
        "colab": {
          "base_uri": "https://localhost:8080/"
        },
        "id": "_kKvFISPO2Z6",
        "outputId": "1fa2c462-d0d9-4d35-a9e0-2b05fd3d7f94"
      },
      "source": [
        "dummy_humidity = pd.get_dummies(data['Humidity'])\n",
        "data = data.drop(['Humidity'], axis=1)\n",
        "data = pd.concat([dummy_humidity, data], axis=1)\n",
        "\n",
        "dummy_wind = pd.get_dummies(data['Wind'])\n",
        "data = data.drop(['Wind'], axis=1)\n",
        "data = pd.concat([dummy_wind, data], axis=1)\n",
        "\n",
        "dummy_temp = pd.get_dummies(data['Temp'])\n",
        "data = data.drop(['Temp'], axis=1)\n",
        "data = pd.concat([dummy_temp,data], axis=1)\n",
        "\n",
        "dummy_outlook = pd.get_dummies(data['Outlook'])\n",
        "data = data.drop(['Outlook'], axis=1)\n",
        "data = pd.concat([dummy_outlook, data], axis=1)\n",
        "\n",
        "print(\"\\n\\nFinal Data :\\n\", data)"
      ],
      "execution_count": null,
      "outputs": [
        {
          "output_type": "stream",
          "name": "stdout",
          "text": [
            "\n",
            "\n",
            "Final Data :\n",
            "     O  R  S  C  H  M  F  T  High  Low  Normal Class\n",
            "0   0  1  0  0  1  0  1  0     0    0       1     N\n",
            "1   0  1  0  0  1  0  0  1     1    0       0     N\n",
            "2   1  0  0  0  1  0  1  0     0    0       1     Y\n",
            "3   0  0  1  0  0  1  1  0     0    0       1     N\n",
            "4   0  0  1  0  0  1  1  0     0    0       1     Y\n",
            "5   0  0  1  0  0  1  0  1     0    1       0     Y\n",
            "6   1  0  0  1  0  0  0  1     0    0       1     Y\n",
            "7   0  1  0  1  0  0  1  0     0    0       1     Y\n",
            "8   0  1  0  1  0  0  1  0     0    1       0     Y\n",
            "9   0  0  1  0  0  1  1  0     1    0       0     Y\n",
            "10  0  1  0  0  0  1  0  1     1    0       0     Y\n",
            "11  1  0  0  0  0  1  0  1     0    1       0     Y\n",
            "12  1  0  0  0  1  0  1  0     0    0       1     Y\n",
            "13  0  0  1  0  0  1  0  1     0    0       1     N\n"
          ]
        }
      ]
    },
    {
      "cell_type": "code",
      "metadata": {
        "colab": {
          "base_uri": "https://localhost:8080/"
        },
        "id": "vBXo5Cc3PaQx",
        "outputId": "dace1f8c-92fe-4af6-d46b-415cadaab81e"
      },
      "source": [
        "X = data.iloc[:, :-1] \n",
        "Y = data.iloc[:, -1] \n",
        "\n",
        "print(\"Data : \\n\", X) \n",
        "print(\"\\nTarget: \\n\", Y) "
      ],
      "execution_count": null,
      "outputs": [
        {
          "output_type": "stream",
          "name": "stdout",
          "text": [
            "Data : \n",
            "     O  R  S  C  H  M  F  T  High  Low  Normal\n",
            "0   0  1  0  0  1  0  1  0     0    0       1\n",
            "1   0  1  0  0  1  0  0  1     1    0       0\n",
            "2   1  0  0  0  1  0  1  0     0    0       1\n",
            "3   0  0  1  0  0  1  1  0     0    0       1\n",
            "4   0  0  1  0  0  1  1  0     0    0       1\n",
            "5   0  0  1  0  0  1  0  1     0    1       0\n",
            "6   1  0  0  1  0  0  0  1     0    0       1\n",
            "7   0  1  0  1  0  0  1  0     0    0       1\n",
            "8   0  1  0  1  0  0  1  0     0    1       0\n",
            "9   0  0  1  0  0  1  1  0     1    0       0\n",
            "10  0  1  0  0  0  1  0  1     1    0       0\n",
            "11  1  0  0  0  0  1  0  1     0    1       0\n",
            "12  1  0  0  0  1  0  1  0     0    0       1\n",
            "13  0  0  1  0  0  1  0  1     0    0       1\n",
            "\n",
            "Target: \n",
            " 0     N\n",
            "1     N\n",
            "2     Y\n",
            "3     N\n",
            "4     Y\n",
            "5     Y\n",
            "6     Y\n",
            "7     Y\n",
            "8     Y\n",
            "9     Y\n",
            "10    Y\n",
            "11    Y\n",
            "12    Y\n",
            "13    N\n",
            "Name: Class, dtype: object\n"
          ]
        }
      ]
    },
    {
      "cell_type": "code",
      "metadata": {
        "id": "qVaUADQHPgon"
      },
      "source": [
        "from sklearn.model_selection import train_test_split\n",
        "\n",
        "data_train, data_test, target_train, target_test = train_test_split(X, Y, test_size = 0.25, random_state = 93)"
      ],
      "execution_count": null,
      "outputs": []
    },
    {
      "cell_type": "code",
      "metadata": {
        "id": "oQvkeFaCPoy7"
      },
      "source": [
        "import numpy as np\n",
        "from sklearn.naive_bayes import GaussianNB\n",
        "\n",
        "gnb = GaussianNB()\n",
        "\n",
        "#Train the model using the training sets\n",
        "gnb.fit(data_train, target_train)\n",
        "\n",
        "#Predict the response for test dataset\n",
        "target_pred = gnb.predict(data_test)"
      ],
      "execution_count": null,
      "outputs": []
    },
    {
      "cell_type": "code",
      "metadata": {
        "colab": {
          "base_uri": "https://localhost:8080/"
        },
        "id": "SRyrWsOpPv6P",
        "outputId": "b513050d-9852-46a6-df1a-765bc7215772"
      },
      "source": [
        "#Import scikit-learn metrics module for accuracy calculation\n",
        "from sklearn import metrics\n",
        "\n",
        "# Model Accuracy, how often is the classifier correct?\n",
        "print(\"Accuracy:\",metrics.accuracy_score(target_test, target_pred))"
      ],
      "execution_count": null,
      "outputs": [
        {
          "output_type": "stream",
          "name": "stdout",
          "text": [
            "Accuracy: 0.75\n"
          ]
        }
      ]
    },
    {
      "cell_type": "code",
      "metadata": {
        "colab": {
          "base_uri": "https://localhost:8080/"
        },
        "id": "9KJ4FVD9P0et",
        "outputId": "fb7b04b3-ef1a-4355-9e91-ad43d9a43bd7"
      },
      "source": [
        "#Import confusion_matrix from scikit-learn metrics module for confusion_matrix\n",
        "from sklearn.metrics import confusion_matrix\n",
        "confusion_matrix(target_test, target_pred)"
      ],
      "execution_count": null,
      "outputs": [
        {
          "output_type": "execute_result",
          "data": {
            "text/plain": [
              "array([[1, 0],\n",
              "       [1, 2]])"
            ]
          },
          "metadata": {},
          "execution_count": 9
        }
      ]
    },
    {
      "cell_type": "code",
      "metadata": {
        "colab": {
          "base_uri": "https://localhost:8080/"
        },
        "id": "GJqyD_JuP4I0",
        "outputId": "52f5814b-3478-4d4c-8ff0-62f81f8d4cfd"
      },
      "source": [
        "from sklearn.metrics import precision_score, recall_score\n",
        "\n",
        "precision = precision_score(target_test, target_pred, average=None)\n",
        "recall = recall_score(target_test, target_pred, average=None)\n",
        "\n",
        "print('precision: {}'.format(precision))\n",
        "print('recall: {}'.format(recall))"
      ],
      "execution_count": null,
      "outputs": [
        {
          "output_type": "stream",
          "name": "stdout",
          "text": [
            "precision: [0.5 1. ]\n",
            "recall: [1.         0.66666667]\n"
          ]
        }
      ]
    },
    {
      "cell_type": "code",
      "metadata": {
        "colab": {
          "base_uri": "https://localhost:8080/",
          "height": 129
        },
        "id": "g9JHEC-yQEtt",
        "outputId": "3b921cb5-5d75-4b96-d2a3-1a199ad13a55"
      },
      "source": [
        "q1 = [0, 1, 0, 0, 0, 1, 1, 0, 0, 0, 1]\n",
        "q2 = [0, 0, 1, 1, 0, 0, 0, 1, 1, 0, 0]\n",
        "\n",
        "\n",
        "features = X.columns.tolist()\n",
        "print(features)\n",
        "df = pd.DataFrame([q1,q2], columns = features)\n",
        "df.head()"
      ],
      "execution_count": null,
      "outputs": [
        {
          "output_type": "stream",
          "name": "stdout",
          "text": [
            "['O', 'R', 'S', 'C', 'H', 'M', 'F', 'T', 'High', 'Low', 'Normal']\n"
          ]
        },
        {
          "output_type": "execute_result",
          "data": {
            "text/html": [
              "<div>\n",
              "<style scoped>\n",
              "    .dataframe tbody tr th:only-of-type {\n",
              "        vertical-align: middle;\n",
              "    }\n",
              "\n",
              "    .dataframe tbody tr th {\n",
              "        vertical-align: top;\n",
              "    }\n",
              "\n",
              "    .dataframe thead th {\n",
              "        text-align: right;\n",
              "    }\n",
              "</style>\n",
              "<table border=\"1\" class=\"dataframe\">\n",
              "  <thead>\n",
              "    <tr style=\"text-align: right;\">\n",
              "      <th></th>\n",
              "      <th>O</th>\n",
              "      <th>R</th>\n",
              "      <th>S</th>\n",
              "      <th>C</th>\n",
              "      <th>H</th>\n",
              "      <th>M</th>\n",
              "      <th>F</th>\n",
              "      <th>T</th>\n",
              "      <th>High</th>\n",
              "      <th>Low</th>\n",
              "      <th>Normal</th>\n",
              "    </tr>\n",
              "  </thead>\n",
              "  <tbody>\n",
              "    <tr>\n",
              "      <th>0</th>\n",
              "      <td>0</td>\n",
              "      <td>1</td>\n",
              "      <td>0</td>\n",
              "      <td>0</td>\n",
              "      <td>0</td>\n",
              "      <td>1</td>\n",
              "      <td>1</td>\n",
              "      <td>0</td>\n",
              "      <td>0</td>\n",
              "      <td>0</td>\n",
              "      <td>1</td>\n",
              "    </tr>\n",
              "    <tr>\n",
              "      <th>1</th>\n",
              "      <td>0</td>\n",
              "      <td>0</td>\n",
              "      <td>1</td>\n",
              "      <td>1</td>\n",
              "      <td>0</td>\n",
              "      <td>0</td>\n",
              "      <td>0</td>\n",
              "      <td>1</td>\n",
              "      <td>1</td>\n",
              "      <td>0</td>\n",
              "      <td>0</td>\n",
              "    </tr>\n",
              "  </tbody>\n",
              "</table>\n",
              "</div>"
            ],
            "text/plain": [
              "   O  R  S  C  H  M  F  T  High  Low  Normal\n",
              "0  0  1  0  0  0  1  1  0     0    0       1\n",
              "1  0  0  1  1  0  0  0  1     1    0       0"
            ]
          },
          "metadata": {},
          "execution_count": 11
        }
      ]
    },
    {
      "cell_type": "code",
      "metadata": {
        "colab": {
          "base_uri": "https://localhost:8080/"
        },
        "id": "Tiyjew9jQMp-",
        "outputId": "c54252bb-2787-475d-cc65-f6e2feeba28b"
      },
      "source": [
        "output = gnb.predict(df)\n",
        "print(\"Class predicted:\\nq1: {}\\nq2: {}\".format(output[0], output[1]))"
      ],
      "execution_count": null,
      "outputs": [
        {
          "output_type": "stream",
          "name": "stdout",
          "text": [
            "Class predicted:\n",
            "q1: N\n",
            "q2: Y\n"
          ]
        }
      ]
    }
  ]
}