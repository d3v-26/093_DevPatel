{
  "nbformat": 4,
  "nbformat_minor": 0,
  "metadata": {
    "colab": {
      "name": "Lab_5_1.ipynb",
      "provenance": [],
      "collapsed_sections": []
    },
    "kernelspec": {
      "name": "python3",
      "display_name": "Python 3"
    },
    "language_info": {
      "name": "python"
    }
  },
  "cells": [
    {
      "cell_type": "code",
      "metadata": {
        "id": "Lfsfq91gi4Gd"
      },
      "source": [
        "import numpy as np"
      ],
      "execution_count": 1,
      "outputs": []
    },
    {
      "cell_type": "markdown",
      "metadata": {
        "id": "_b5SpDzdjDjK"
      },
      "source": [
        "Training"
      ]
    },
    {
      "cell_type": "code",
      "metadata": {
        "id": "2KkOhoK1jB8b"
      },
      "source": [
        "# temperature, rainfall and humidity\n",
        "inputs = np.array([[73, 67, 43], [91, 88, 64], [87, 134, 58], [102, 43, 37], [69, 96, 70], [73, 67, 43], [91, 88, 64], [87, 134, 58], [102, 43, 37], [69, 96, 70], [73, 67, 43], [91, 88, 64], [87, 134, 58], [102, 43, 37], [69, 96, 70]], dtype='float32')\n",
        "\n",
        "# Targets (apples, oranges)\n",
        "targets = np.array([[56, 70], [81, 101], [119, 133], [22, 37], [103, 119], \n",
        "                    [56, 70], [81, 101], [119, 133], [22, 37], [103, 119], \n",
        "                    [56, 70], [81, 101], [119, 133], [22, 37], [103, 119]], dtype='float32')\n",
        "\n",
        "x_shape = inputs.shape"
      ],
      "execution_count": 2,
      "outputs": []
    },
    {
      "cell_type": "code",
      "metadata": {
        "colab": {
          "base_uri": "https://localhost:8080/"
        },
        "id": "AV2eFdF2jvkj",
        "outputId": "6e83f821-0d5e-43ca-ddff-5fde54362069"
      },
      "source": [
        "# weights and biases\n",
        "weights = np.random.rand(2,3)\n",
        "biases = np.random.rand(15,2)\n",
        "print(weights)\n",
        "print(biases)"
      ],
      "execution_count": 3,
      "outputs": [
        {
          "output_type": "stream",
          "name": "stdout",
          "text": [
            "[[0.70425069 0.95574458 0.53495608]\n",
            " [0.70651423 0.94048153 0.29136277]]\n",
            "[[0.93719293 0.53046385]\n",
            " [0.26522606 0.818419  ]\n",
            " [0.5310264  0.33206303]\n",
            " [0.31215204 0.76129792]\n",
            " [0.39172015 0.33258291]\n",
            " [0.72489714 0.0705774 ]\n",
            " [0.8996411  0.25393916]\n",
            " [0.78748562 0.97742498]\n",
            " [0.43047442 0.7093396 ]\n",
            " [0.03756617 0.23342892]\n",
            " [0.9883835  0.46178469]\n",
            " [0.04486049 0.6618089 ]\n",
            " [0.04808721 0.49662377]\n",
            " [0.91397619 0.78251488]\n",
            " [0.60678705 0.72950763]]\n"
          ]
        }
      ]
    },
    {
      "cell_type": "code",
      "metadata": {
        "colab": {
          "base_uri": "https://localhost:8080/"
        },
        "id": "NBkJn-7Kj0PX",
        "outputId": "8430f75e-f1bc-4e2a-96a3-12d463e9d983"
      },
      "source": [
        "# Defining the model\n",
        "def model(x):\n",
        "    return x @ np.transpose(weights) + biases\n",
        "\n",
        "# Generate predictions\n",
        "preds = model(inputs)\n",
        "\n",
        "# Compare with targets\n",
        "print(\"Predictions : \", preds)\n",
        "print(\"Targets : \",targets)"
      ],
      "execution_count": 4,
      "outputs": [
        {
          "output_type": "stream",
          "name": "stdout",
          "text": [
            "Predictions :  [[139.38549136 127.64686429]\n",
            " [182.69475073 166.52080594]\n",
            " [220.89806238 204.72236689]\n",
            " [133.03611405 124.0468775 ]\n",
            " [178.18342281 159.76368578]\n",
            " [139.17319557 127.18697784]\n",
            " [183.32916577 165.9563261 ]\n",
            " [221.1545216  205.36772884]\n",
            " [133.15443644 123.99491918]\n",
            " [177.82926883 159.66453178]\n",
            " [139.43668192 127.57818513]\n",
            " [182.47438515 166.36419584]\n",
            " [220.41512319 204.88692763]\n",
            " [133.63793821 124.06809446]\n",
            " [178.39848971 160.1606105 ]]\n",
            "Targets :  [[ 56.  70.]\n",
            " [ 81. 101.]\n",
            " [119. 133.]\n",
            " [ 22.  37.]\n",
            " [103. 119.]\n",
            " [ 56.  70.]\n",
            " [ 81. 101.]\n",
            " [119. 133.]\n",
            " [ 22.  37.]\n",
            " [103. 119.]\n",
            " [ 56.  70.]\n",
            " [ 81. 101.]\n",
            " [119. 133.]\n",
            " [ 22.  37.]\n",
            " [103. 119.]]\n"
          ]
        }
      ]
    },
    {
      "cell_type": "code",
      "metadata": {
        "colab": {
          "base_uri": "https://localhost:8080/"
        },
        "id": "TRiEps8Cj-eI",
        "outputId": "739b81f3-71e4-442f-fc77-02d9d27aa3b4"
      },
      "source": [
        "# MSE loss\n",
        "def mse(t1, t2):\n",
        "    diff = t1 - t2\n",
        "    return np.sum(diff * diff) / len(diff)\n",
        "\n",
        "# Compute loss\n",
        "loss = mse(preds, targets)\n",
        "print(loss)\n",
        "\n"
      ],
      "execution_count": 6,
      "outputs": [
        {
          "output_type": "stream",
          "name": "stdout",
          "text": [
            "13540.589035113831\n"
          ]
        }
      ]
    },
    {
      "cell_type": "code",
      "metadata": {
        "colab": {
          "base_uri": "https://localhost:8080/"
        },
        "id": "ve4TYSAtkF8d",
        "outputId": "5714294f-25d1-4129-83ce-49e770b90b8b"
      },
      "source": [
        "# compute gradients\n",
        "biases_grad = (preds-targets)*2/x_shape[0]\n",
        "weights_grad = (np.matmul(np.transpose((preds-targets)),inputs))*2/x_shape[0]\n",
        "\n",
        "print(weights_grad)\n",
        "print(biases_grad)"
      ],
      "execution_count": 7,
      "outputs": [
        {
          "output_type": "stream",
          "name": "stdout",
          "text": [
            "[[16297.2767012  16074.70819212 10153.23412766]\n",
            " [11238.59705228 10763.04221646  6762.20179306]]\n",
            "[[11.11806551  7.68624857]\n",
            " [13.5593001   8.73610746]\n",
            " [13.58640832  9.56298225]\n",
            " [14.80481521 11.60625033]\n",
            " [10.02445637  5.4351581 ]\n",
            " [11.08975941  7.62493038]\n",
            " [13.64388877  8.66084348]\n",
            " [13.62060288  9.64903051]\n",
            " [14.82059153 11.59932256]\n",
            " [ 9.97723584  5.42193757]\n",
            " [11.12489092  7.67709135]\n",
            " [13.52991802  8.71522611]\n",
            " [13.52201642  9.58492368]\n",
            " [14.88505843 11.60907926]\n",
            " [10.05313196  5.4880814 ]]\n"
          ]
        }
      ]
    },
    {
      "cell_type": "code",
      "metadata": {
        "colab": {
          "base_uri": "https://localhost:8080/"
        },
        "id": "5YdKVFVfkKSx",
        "outputId": "d61cd998-5511-44a0-a364-6775a43afaa0"
      },
      "source": [
        "# Adjust weights\n",
        "weights -= weights_grad * 1e-5\n",
        "biases -= biases_grad * 1e-5\n",
        "print(weights)\n",
        "print(biases)"
      ],
      "execution_count": 8,
      "outputs": [
        {
          "output_type": "stream",
          "name": "stdout",
          "text": [
            "[[0.54127792 0.7949975  0.43342374]\n",
            " [0.59412826 0.83285111 0.22374076]]\n",
            "[[0.93708175 0.53038699]\n",
            " [0.26509047 0.81833164]\n",
            " [0.53089054 0.3319674 ]\n",
            " [0.31200399 0.76118186]\n",
            " [0.39161991 0.33252856]\n",
            " [0.72478624 0.07050115]\n",
            " [0.89950467 0.25385255]\n",
            " [0.78734941 0.97732849]\n",
            " [0.43032622 0.70922361]\n",
            " [0.0374664  0.2333747 ]\n",
            " [0.98827225 0.46170792]\n",
            " [0.04472519 0.66172175]\n",
            " [0.04795199 0.49652792]\n",
            " [0.91382734 0.78239879]\n",
            " [0.60668652 0.72945275]]\n"
          ]
        }
      ]
    },
    {
      "cell_type": "code",
      "metadata": {
        "colab": {
          "base_uri": "https://localhost:8080/"
        },
        "id": "Q1h2UvSbkSH2",
        "outputId": "76175b35-f18f-4efe-fecc-0abf95ed460c"
      },
      "source": [
        "# Calculate loss\n",
        "preds = model(inputs)\n",
        "loss = mse(preds, targets)\n",
        "print(loss)"
      ],
      "execution_count": 9,
      "outputs": [
        {
          "output_type": "stream",
          "name": "stdout",
          "text": [
            "6026.3410723821735\n"
          ]
        }
      ]
    },
    {
      "cell_type": "code",
      "metadata": {
        "id": "_wlDa5XHkZrJ"
      },
      "source": [
        "for i in range(200):\n",
        "    preds = model(inputs)\n",
        "    loss = mse(preds, targets)\n",
        "    \n",
        "    biases_grad = ((((inputs@np.transpose(weights))+biases)-targets))*2/x_shape[0]\n",
        "    weights_grad = (np.matmul(np.transpose((((inputs@np.transpose(weights))+biases)-targets)),inputs))*2/x_shape[0]\n",
        "\n",
        "    weights -= weights_grad * 1e-5\n",
        "    biases -= biases_grad * 1e-5"
      ],
      "execution_count": 10,
      "outputs": []
    },
    {
      "cell_type": "code",
      "metadata": {
        "colab": {
          "base_uri": "https://localhost:8080/"
        },
        "id": "PHyLorb7kdLl",
        "outputId": "fb9b1205-8de3-441d-dcb8-f23f49ed5b2c"
      },
      "source": [
        "# Calculate loss\n",
        "preds = model(inputs)\n",
        "loss = mse(preds, targets)\n",
        "print(loss)"
      ],
      "execution_count": 11,
      "outputs": [
        {
          "output_type": "stream",
          "name": "stdout",
          "text": [
            "44.29352350802592\n"
          ]
        }
      ]
    },
    {
      "cell_type": "code",
      "metadata": {
        "colab": {
          "base_uri": "https://localhost:8080/"
        },
        "id": "C_1DEk9CkhSu",
        "outputId": "fd444632-8d25-4489-8e93-7f4f0e5bc845"
      },
      "source": [
        "print(preds)\n",
        "print(\"\\n\\n\")\n",
        "print(targets)"
      ],
      "execution_count": 13,
      "outputs": [
        {
          "output_type": "stream",
          "name": "stdout",
          "text": [
            "[[ 58.3616433   71.2624835 ]\n",
            " [ 80.32802961  97.32218928]\n",
            " [121.20755455 139.42416531]\n",
            " [ 24.6349028   41.90017929]\n",
            " [ 96.87066934 110.00852643]\n",
            " [ 58.1494044   70.80272028]\n",
            " [ 80.96227465  96.75786069]\n",
            " [121.46394505 140.06935433]\n",
            " [ 24.75319348  41.84823489]\n",
            " [ 96.51661025 109.90939901]\n",
            " [ 58.41282015  71.19382275]\n",
            " [ 80.10772309  97.16562114]\n",
            " [120.72474477 139.58868195]\n",
            " [ 25.23656569  41.92139056]\n",
            " [ 97.0856786  110.40534479]]\n",
            "\n",
            "\n",
            "\n",
            "[[ 56.  70.]\n",
            " [ 81. 101.]\n",
            " [119. 133.]\n",
            " [ 22.  37.]\n",
            " [103. 119.]\n",
            " [ 56.  70.]\n",
            " [ 81. 101.]\n",
            " [119. 133.]\n",
            " [ 22.  37.]\n",
            " [103. 119.]\n",
            " [ 56.  70.]\n",
            " [ 81. 101.]\n",
            " [119. 133.]\n",
            " [ 22.  37.]\n",
            " [103. 119.]]\n"
          ]
        }
      ]
    }
  ]
}