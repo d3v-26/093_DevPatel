{
  "nbformat": 4,
  "nbformat_minor": 0,
  "metadata": {
    "kernelspec": {
      "name": "python3",
      "display_name": "Python 3.9.2 64-bit"
    },
    "language_info": {
      "codemirror_mode": {
        "name": "ipython",
        "version": 3
      },
      "file_extension": ".py",
      "mimetype": "text/x-python",
      "name": "python",
      "nbconvert_exporter": "python",
      "pygments_lexer": "ipython3",
      "version": "3.9.2"
    },
    "colab": {
      "name": "Lab_5_2.ipynb",
      "provenance": []
    },
    "interpreter": {
      "hash": "5d3bdf297df944d34b1a97ad44b06b41afb7df81ac17206bbaaada21786479bf"
    }
  },
  "cells": [
    {
      "cell_type": "markdown",
      "metadata": {
        "id": "J1ilwzgdZVx_"
      },
      "source": [
        "# Task2: Try Linear regression on same prediction data using Tensorflow"
      ]
    },
    {
      "cell_type": "code",
      "metadata": {
        "id": "LmJfRlyJZQrC"
      },
      "source": [
        "import numpy as np\n",
        "import tensorflow as tf"
      ],
      "execution_count": 1,
      "outputs": []
    },
    {
      "cell_type": "code",
      "metadata": {
        "id": "-5YncrZRZQrH"
      },
      "source": [
        "inputs = np.array([[73, 67, 43], [91, 88, 64], [87, 134, 58], [102, 43, 37], [69, 96, 70],[73, 67, 43], [91, 88, 64], \n",
        "                    [87, 134, 58], [102, 43, 37], [69, 96, 70], [73, 67, 43], [91, 88, 64], [87, 134, 58], [102, 43, 37], \n",
        "                    [69, 96, 70]], dtype='float64')\n",
        "\n",
        "targets = np.array([[56, 70], [81, 101], [119, 133], [22, 37], [103, 119],[56, 70], [81, 101], [119, 133], [22, 37], \n",
        "                    [103, 119],[56, 70], [81, 101], [119, 133], [22, 37], [103, 119]], dtype='float64')"
      ],
      "execution_count": 2,
      "outputs": []
    },
    {
      "cell_type": "code",
      "metadata": {
        "colab": {
          "base_uri": "https://localhost:8080/"
        },
        "id": "DVu7ljiDZQrI",
        "outputId": "957d592d-e874-412d-c466-43421b28740e"
      },
      "source": [
        "inputs = tf.Variable(inputs)\n",
        "targets = tf.Variable(targets)\n",
        "print(\"Targets :\\n\",targets)"
      ],
      "execution_count": 3,
      "outputs": [
        {
          "output_type": "stream",
          "name": "stdout",
          "text": [
            "Targets :\n",
            " <tf.Variable 'Variable:0' shape=(15, 2) dtype=float64, numpy=\n",
            "array([[ 56.,  70.],\n",
            "       [ 81., 101.],\n",
            "       [119., 133.],\n",
            "       [ 22.,  37.],\n",
            "       [103., 119.],\n",
            "       [ 56.,  70.],\n",
            "       [ 81., 101.],\n",
            "       [119., 133.],\n",
            "       [ 22.,  37.],\n",
            "       [103., 119.],\n",
            "       [ 56.,  70.],\n",
            "       [ 81., 101.],\n",
            "       [119., 133.],\n",
            "       [ 22.,  37.],\n",
            "       [103., 119.]])>\n"
          ]
        }
      ]
    },
    {
      "cell_type": "code",
      "metadata": {
        "colab": {
          "base_uri": "https://localhost:8080/"
        },
        "id": "5wlZ_7VMZQrK",
        "outputId": "0dc004ba-6290-4069-9cc4-a6e13f68044f"
      },
      "source": [
        "v = np.random.rand(3,2)\n",
        "r = np.random.randn(2)\n",
        "v = tf.Variable(v)\n",
        "r = tf.Variable(r)\n",
        "\n",
        "print(f\"{v}\\n{r}\")"
      ],
      "execution_count": 4,
      "outputs": [
        {
          "output_type": "stream",
          "name": "stdout",
          "text": [
            "<tf.Variable 'Variable:0' shape=(3, 2) dtype=float64, numpy=\n",
            "array([[0.377855  , 0.77342922],\n",
            "       [0.50321538, 0.19918605],\n",
            "       [0.81106496, 0.45792475]])>\n",
            "<tf.Variable 'Variable:0' shape=(2,) dtype=float64, numpy=array([ 0.21186872, -0.87524954])>\n"
          ]
        }
      ]
    },
    {
      "cell_type": "code",
      "metadata": {
        "id": "E_oL9WFhZQrL"
      },
      "source": [
        "def model(s):\n",
        "    return s @ v + r"
      ],
      "execution_count": 5,
      "outputs": []
    },
    {
      "cell_type": "code",
      "metadata": {
        "colab": {
          "base_uri": "https://localhost:8080/"
        },
        "id": "KbI3OOQmZQrL",
        "outputId": "c8bcabef-52ea-41c8-a174-ef7eec66164f"
      },
      "source": [
        "prediction = model(inputs)\n",
        "print(prediction)"
      ],
      "execution_count": 6,
      "outputs": [
        {
          "output_type": "stream",
          "name": "stdout",
          "text": [
            "tf.Tensor(\n",
            "[[ 96.38650724  88.62131346]\n",
            " [130.78778433 116.34236637]\n",
            " [147.55788201 119.66365935]\n",
            " [ 90.40074328 103.52274706]\n",
            " [131.36708721 103.66796047]\n",
            " [ 96.38650724  88.62131346]\n",
            " [130.78778433 116.34236637]\n",
            " [147.55788201 119.66365935]\n",
            " [ 90.40074328 103.52274706]\n",
            " [131.36708721 103.66796047]\n",
            " [ 96.38650724  88.62131346]\n",
            " [130.78778433 116.34236637]\n",
            " [147.55788201 119.66365935]\n",
            " [ 90.40074328 103.52274706]\n",
            " [131.36708721 103.66796047]], shape=(15, 2), dtype=float64)\n"
          ]
        }
      ]
    },
    {
      "cell_type": "code",
      "metadata": {
        "colab": {
          "base_uri": "https://localhost:8080/"
        },
        "id": "JmIALX3KZQrM",
        "outputId": "5adc0d2d-a5ba-4b78-ae1b-c7461d973b9a"
      },
      "source": [
        "def mean_square_error(t1,t2):\n",
        "    return tf.reduce_mean(tf.square(t1 - t2))\n",
        "print(mean_square_error(prediction,targets))"
      ],
      "execution_count": 7,
      "outputs": [
        {
          "output_type": "stream",
          "name": "stdout",
          "text": [
            "tf.Tensor(1582.9146193966008, shape=(), dtype=float64)\n"
          ]
        }
      ]
    },
    {
      "cell_type": "code",
      "metadata": {
        "colab": {
          "base_uri": "https://localhost:8080/"
        },
        "id": "7qbjDtJ1ZQrN",
        "outputId": "e528e59b-c3e0-4f9b-c6ca-f8973cf45558"
      },
      "source": [
        "epochs = 40\n",
        "for epoch_count in range(epochs):\n",
        "    \n",
        "    with tf.GradientTape(persistent=True) as t:\n",
        "        current_loss = mean_square_error(targets, model(inputs))\n",
        "\n",
        "    v1 = t.gradient(current_loss,v)\n",
        "    r1 = t.gradient(current_loss,r)\n",
        "\n",
        "    v.assign_sub(1e-4 * v1)\n",
        "    r.assign_sub(1e-4 * r1)\n",
        "        \n",
        "    print(f\" \\n Epoch count: {epoch_count} \\n Loss value: {current_loss.numpy()}\")\n"
      ],
      "execution_count": 8,
      "outputs": [
        {
          "output_type": "stream",
          "name": "stdout",
          "text": [
            " \n",
            " Epoch count: 0 \n",
            " Loss value: 1582.9146193966008\n",
            " \n",
            " Epoch count: 1 \n",
            " Loss value: 1165.5048030451076\n",
            " \n",
            " Epoch count: 2 \n",
            " Loss value: 883.238403694563\n",
            " \n",
            " Epoch count: 3 \n",
            " Loss value: 688.1036414457911\n",
            " \n",
            " Epoch count: 4 \n",
            " Loss value: 549.747388407435\n",
            " \n",
            " Epoch count: 5 \n",
            " Loss value: 448.9025995575377\n",
            " \n",
            " Epoch count: 6 \n",
            " Loss value: 373.2717681468577\n",
            " \n",
            " Epoch count: 7 \n",
            " Loss value: 314.94744551009666\n",
            " \n",
            " Epoch count: 8 \n",
            " Loss value: 268.79485572009725\n",
            " \n",
            " Epoch count: 9 \n",
            " Loss value: 231.43684344448837\n",
            " \n",
            " Epoch count: 10 \n",
            " Loss value: 200.61603430364733\n",
            " \n",
            " Epoch count: 11 \n",
            " Loss value: 174.79332463838924\n",
            " \n",
            " Epoch count: 12 \n",
            " Loss value: 152.89452225325326\n",
            " \n",
            " Epoch count: 13 \n",
            " Loss value: 134.14993674105844\n",
            " \n",
            " Epoch count: 14 \n",
            " Loss value: 117.99235287585887\n",
            " \n",
            " Epoch count: 15 \n",
            " Loss value: 103.99173367666222\n",
            " \n",
            " Epoch count: 16 \n",
            " Loss value: 91.81308166095967\n",
            " \n",
            " Epoch count: 17 \n",
            " Loss value: 81.18894591314688\n",
            " \n",
            " Epoch count: 18 \n",
            " Loss value: 71.90123026155948\n",
            " \n",
            " Epoch count: 19 \n",
            " Loss value: 63.7689419181605\n",
            " \n",
            " Epoch count: 20 \n",
            " Loss value: 56.63976324272769\n",
            " \n",
            " Epoch count: 21 \n",
            " Loss value: 50.38410893333513\n",
            " \n",
            " Epoch count: 22 \n",
            " Loss value: 44.89082029144616\n",
            " \n",
            " Epoch count: 23 \n",
            " Loss value: 40.06395575294055\n",
            " \n",
            " Epoch count: 24 \n",
            " Loss value: 35.82033051093807\n",
            " \n",
            " Epoch count: 25 \n",
            " Loss value: 32.087580278403365\n",
            " \n",
            " Epoch count: 26 \n",
            " Loss value: 28.802601652228432\n",
            " \n",
            " Epoch count: 27 \n",
            " Loss value: 25.910270805440785\n",
            " \n",
            " Epoch count: 28 \n",
            " Loss value: 23.362373786943376\n",
            " \n",
            " Epoch count: 29 \n",
            " Loss value: 21.11670209037627\n",
            " \n",
            " Epoch count: 30 \n",
            " Loss value: 19.136280468750538\n",
            " \n",
            " Epoch count: 31 \n",
            " Loss value: 17.388702796208104\n",
            " \n",
            " Epoch count: 32 \n",
            " Loss value: 15.8455577331192\n",
            " \n",
            " Epoch count: 33 \n",
            " Loss value: 14.48193005696172\n",
            " \n",
            " Epoch count: 34 \n",
            " Loss value: 13.275966424448645\n",
            " \n",
            " Epoch count: 35 \n",
            " Loss value: 12.20849643967328\n",
            " \n",
            " Epoch count: 36 \n",
            " Loss value: 11.26270147983513\n",
            " \n",
            " Epoch count: 37 \n",
            " Loss value: 10.42382494221537\n",
            " \n",
            " Epoch count: 38 \n",
            " Loss value: 9.67891853234815\n",
            " \n",
            " Epoch count: 39 \n",
            " Loss value: 9.016619985277286\n"
          ]
        }
      ]
    },
    {
      "cell_type": "code",
      "metadata": {
        "id": "NlRbUNTaZQrO"
      },
      "source": [
        ""
      ],
      "execution_count": null,
      "outputs": []
    }
  ]
}