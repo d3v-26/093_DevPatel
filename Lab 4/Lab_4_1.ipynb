{
  "nbformat": 4,
  "nbformat_minor": 0,
  "metadata": {
    "colab": {
      "name": "Lab_4_1.ipynb",
      "provenance": [],
      "collapsed_sections": []
    },
    "kernelspec": {
      "name": "python3",
      "display_name": "Python 3"
    },
    "language_info": {
      "name": "python"
    }
  },
  "cells": [
    {
      "cell_type": "code",
      "metadata": {
        "id": "z1fecnK6R8wh"
      },
      "source": [
        "# Import necessary Libraries\n",
        "\n",
        "import pandas as pd\n",
        "import numpy as np\n",
        "import matplotlib.pyplot as plt\n",
        "from sklearn.preprocessing import OneHotEncoder\n",
        "from sklearn.metrics import accuracy_score, confusion_matrix, precision_score, recall_score\n",
        "from sklearn.tree import DecisionTreeClassifier\n",
        "from sklearn.model_selection import train_test_split"
      ],
      "execution_count": 1,
      "outputs": []
    },
    {
      "cell_type": "code",
      "metadata": {
        "id": "QhflxsrASGrS"
      },
      "source": [
        "#Predictor variables\n",
        "Outlook = ['Rainy', 'Rainy', 'Overcast', 'Sunny', 'Sunny', 'Sunny', 'Overcast', 'Rainy', 'Rainy', 'Sunny', 'Rainy','Overcast', 'Overcast', 'Sunny']\n",
        "Temperature = ['Hot', 'Hot', 'Hot', 'Mild', 'Cool', 'Cool', 'Cool', 'Mild', 'Cool', 'Mild', 'Mild', 'Mild', 'Hot', 'Mild']\n",
        "Humidity = ['High', 'High', 'High', 'High', 'Normal', 'Normal', 'Normal', 'High', 'Normal', 'Normal', 'Normal', 'High', 'Normal', 'High']\n",
        "Wind = ['False', 'True', 'False', 'False', 'False', 'True', 'True', 'False', 'False', 'False', 'True', 'True', 'False', 'True']\n",
        "\n",
        "#Class Label:\n",
        "Play = ['No', 'No', 'Yes', 'Yes', 'Yes', 'No', 'Yes', 'No', 'Yes', 'Yes', 'Yes', 'Yes', 'Yes', 'No']"
      ],
      "execution_count": 2,
      "outputs": []
    },
    {
      "cell_type": "code",
      "metadata": {
        "colab": {
          "base_uri": "https://localhost:8080/",
          "height": 290
        },
        "id": "-yOMsJRTSUI9",
        "outputId": "5deaf050-d265-4739-af2c-a8cc42e639ce"
      },
      "source": [
        "dataset_list = list(zip(Outlook, Temperature, Humidity, Wind, Play))\n",
        "dataset = pd.DataFrame(dataset_list, columns = [\"Outlook\", \"Temperature\", \"Humidity\", \"Wind\", \"Play\"])\n",
        "print(\"Number of Examples and Features:\", dataset.shape)\n",
        "print(dataset.head())\n",
        "\n",
        "dataset.describe()"
      ],
      "execution_count": 3,
      "outputs": [
        {
          "output_type": "stream",
          "name": "stdout",
          "text": [
            "Number of Examples and Features: (14, 5)\n",
            "    Outlook Temperature Humidity   Wind Play\n",
            "0     Rainy         Hot     High  False   No\n",
            "1     Rainy         Hot     High   True   No\n",
            "2  Overcast         Hot     High  False  Yes\n",
            "3     Sunny        Mild     High  False  Yes\n",
            "4     Sunny        Cool   Normal  False  Yes\n"
          ]
        },
        {
          "output_type": "execute_result",
          "data": {
            "text/html": [
              "<div>\n",
              "<style scoped>\n",
              "    .dataframe tbody tr th:only-of-type {\n",
              "        vertical-align: middle;\n",
              "    }\n",
              "\n",
              "    .dataframe tbody tr th {\n",
              "        vertical-align: top;\n",
              "    }\n",
              "\n",
              "    .dataframe thead th {\n",
              "        text-align: right;\n",
              "    }\n",
              "</style>\n",
              "<table border=\"1\" class=\"dataframe\">\n",
              "  <thead>\n",
              "    <tr style=\"text-align: right;\">\n",
              "      <th></th>\n",
              "      <th>Outlook</th>\n",
              "      <th>Temperature</th>\n",
              "      <th>Humidity</th>\n",
              "      <th>Wind</th>\n",
              "      <th>Play</th>\n",
              "    </tr>\n",
              "  </thead>\n",
              "  <tbody>\n",
              "    <tr>\n",
              "      <th>count</th>\n",
              "      <td>14</td>\n",
              "      <td>14</td>\n",
              "      <td>14</td>\n",
              "      <td>14</td>\n",
              "      <td>14</td>\n",
              "    </tr>\n",
              "    <tr>\n",
              "      <th>unique</th>\n",
              "      <td>3</td>\n",
              "      <td>3</td>\n",
              "      <td>2</td>\n",
              "      <td>2</td>\n",
              "      <td>2</td>\n",
              "    </tr>\n",
              "    <tr>\n",
              "      <th>top</th>\n",
              "      <td>Rainy</td>\n",
              "      <td>Mild</td>\n",
              "      <td>Normal</td>\n",
              "      <td>False</td>\n",
              "      <td>Yes</td>\n",
              "    </tr>\n",
              "    <tr>\n",
              "      <th>freq</th>\n",
              "      <td>5</td>\n",
              "      <td>6</td>\n",
              "      <td>7</td>\n",
              "      <td>8</td>\n",
              "      <td>9</td>\n",
              "    </tr>\n",
              "  </tbody>\n",
              "</table>\n",
              "</div>"
            ],
            "text/plain": [
              "       Outlook Temperature Humidity   Wind Play\n",
              "count       14          14       14     14   14\n",
              "unique       3           3        2      2    2\n",
              "top      Rainy        Mild   Normal  False  Yes\n",
              "freq         5           6        7      8    9"
            ]
          },
          "metadata": {},
          "execution_count": 3
        }
      ]
    },
    {
      "cell_type": "code",
      "metadata": {
        "colab": {
          "base_uri": "https://localhost:8080/",
          "height": 254
        },
        "id": "OV1m0k9USbgY",
        "outputId": "221e7127-152d-4ca4-ef76-e045bd74cd1d"
      },
      "source": [
        "dummy = pd.get_dummies(dataset.iloc[:,:-1])\n",
        "\n",
        "cols = dataset.columns.tolist()\n",
        "cols.remove(\"Play\")\n",
        "\n",
        "dataset = dataset.drop(cols, axis = 1)\n",
        "dataset = pd.concat([dummy,dataset], axis = 1)\n",
        "\n",
        "print(\"\\nFinal dataset :\\n\")\n",
        "dataset.head()"
      ],
      "execution_count": 4,
      "outputs": [
        {
          "output_type": "stream",
          "name": "stdout",
          "text": [
            "\n",
            "Final dataset :\n",
            "\n"
          ]
        },
        {
          "output_type": "execute_result",
          "data": {
            "text/html": [
              "<div>\n",
              "<style scoped>\n",
              "    .dataframe tbody tr th:only-of-type {\n",
              "        vertical-align: middle;\n",
              "    }\n",
              "\n",
              "    .dataframe tbody tr th {\n",
              "        vertical-align: top;\n",
              "    }\n",
              "\n",
              "    .dataframe thead th {\n",
              "        text-align: right;\n",
              "    }\n",
              "</style>\n",
              "<table border=\"1\" class=\"dataframe\">\n",
              "  <thead>\n",
              "    <tr style=\"text-align: right;\">\n",
              "      <th></th>\n",
              "      <th>Outlook_Overcast</th>\n",
              "      <th>Outlook_Rainy</th>\n",
              "      <th>Outlook_Sunny</th>\n",
              "      <th>Temperature_Cool</th>\n",
              "      <th>Temperature_Hot</th>\n",
              "      <th>Temperature_Mild</th>\n",
              "      <th>Humidity_High</th>\n",
              "      <th>Humidity_Normal</th>\n",
              "      <th>Wind_False</th>\n",
              "      <th>Wind_True</th>\n",
              "      <th>Play</th>\n",
              "    </tr>\n",
              "  </thead>\n",
              "  <tbody>\n",
              "    <tr>\n",
              "      <th>0</th>\n",
              "      <td>0</td>\n",
              "      <td>1</td>\n",
              "      <td>0</td>\n",
              "      <td>0</td>\n",
              "      <td>1</td>\n",
              "      <td>0</td>\n",
              "      <td>1</td>\n",
              "      <td>0</td>\n",
              "      <td>1</td>\n",
              "      <td>0</td>\n",
              "      <td>No</td>\n",
              "    </tr>\n",
              "    <tr>\n",
              "      <th>1</th>\n",
              "      <td>0</td>\n",
              "      <td>1</td>\n",
              "      <td>0</td>\n",
              "      <td>0</td>\n",
              "      <td>1</td>\n",
              "      <td>0</td>\n",
              "      <td>1</td>\n",
              "      <td>0</td>\n",
              "      <td>0</td>\n",
              "      <td>1</td>\n",
              "      <td>No</td>\n",
              "    </tr>\n",
              "    <tr>\n",
              "      <th>2</th>\n",
              "      <td>1</td>\n",
              "      <td>0</td>\n",
              "      <td>0</td>\n",
              "      <td>0</td>\n",
              "      <td>1</td>\n",
              "      <td>0</td>\n",
              "      <td>1</td>\n",
              "      <td>0</td>\n",
              "      <td>1</td>\n",
              "      <td>0</td>\n",
              "      <td>Yes</td>\n",
              "    </tr>\n",
              "    <tr>\n",
              "      <th>3</th>\n",
              "      <td>0</td>\n",
              "      <td>0</td>\n",
              "      <td>1</td>\n",
              "      <td>0</td>\n",
              "      <td>0</td>\n",
              "      <td>1</td>\n",
              "      <td>1</td>\n",
              "      <td>0</td>\n",
              "      <td>1</td>\n",
              "      <td>0</td>\n",
              "      <td>Yes</td>\n",
              "    </tr>\n",
              "    <tr>\n",
              "      <th>4</th>\n",
              "      <td>0</td>\n",
              "      <td>0</td>\n",
              "      <td>1</td>\n",
              "      <td>1</td>\n",
              "      <td>0</td>\n",
              "      <td>0</td>\n",
              "      <td>0</td>\n",
              "      <td>1</td>\n",
              "      <td>1</td>\n",
              "      <td>0</td>\n",
              "      <td>Yes</td>\n",
              "    </tr>\n",
              "  </tbody>\n",
              "</table>\n",
              "</div>"
            ],
            "text/plain": [
              "   Outlook_Overcast  Outlook_Rainy  Outlook_Sunny  ...  Wind_False  Wind_True  Play\n",
              "0                 0              1              0  ...           1          0    No\n",
              "1                 0              1              0  ...           0          1    No\n",
              "2                 1              0              0  ...           1          0   Yes\n",
              "3                 0              0              1  ...           1          0   Yes\n",
              "4                 0              0              1  ...           1          0   Yes\n",
              "\n",
              "[5 rows x 11 columns]"
            ]
          },
          "metadata": {},
          "execution_count": 4
        }
      ]
    },
    {
      "cell_type": "code",
      "metadata": {
        "colab": {
          "base_uri": "https://localhost:8080/"
        },
        "id": "OzlhZvH9S29r",
        "outputId": "578abd65-c08a-45c5-b4f2-e85152eca54c"
      },
      "source": [
        "print(\"\\nLabel\")\n",
        "labels = dataset['Play']\n",
        "labels"
      ],
      "execution_count": 5,
      "outputs": [
        {
          "output_type": "stream",
          "name": "stdout",
          "text": [
            "\n",
            "Label\n"
          ]
        },
        {
          "output_type": "execute_result",
          "data": {
            "text/plain": [
              "0      No\n",
              "1      No\n",
              "2     Yes\n",
              "3     Yes\n",
              "4     Yes\n",
              "5      No\n",
              "6     Yes\n",
              "7      No\n",
              "8     Yes\n",
              "9     Yes\n",
              "10    Yes\n",
              "11    Yes\n",
              "12    Yes\n",
              "13     No\n",
              "Name: Play, dtype: object"
            ]
          },
          "metadata": {},
          "execution_count": 5
        }
      ]
    },
    {
      "cell_type": "code",
      "metadata": {
        "id": "uIf4QXFIS7pz"
      },
      "source": [
        "#split data set into train and test sets\n",
        "data_train, data_test, target_train, target_test = train_test_split(dataset.iloc[:,:-1], labels, test_size = 0.25, random_state = 93)"
      ],
      "execution_count": 6,
      "outputs": []
    },
    {
      "cell_type": "code",
      "metadata": {
        "colab": {
          "base_uri": "https://localhost:8080/"
        },
        "id": "CDxK9HR8TBFc",
        "outputId": "c874815e-3370-451f-97c5-68c721c8ddf6"
      },
      "source": [
        "DT = DecisionTreeClassifier(max_leaf_nodes = 93, random_state = 93) # Roll no : 93\n",
        "\n",
        "# fitting the model or training\n",
        "final_model = DT.fit(data_train,target_train)\n",
        "\n",
        "# Predicting\n",
        "target_predict = DT.predict(data_test)\n",
        "\n",
        "# Accuracy\n",
        "Accuracy = accuracy_score(target_test, target_predict)\n",
        "print(\"Accuracy:\", Accuracy)\n",
        "\n",
        "# Confusion Matrix\n",
        "c = confusion_matrix(target_test, target_predict)\n",
        "print(\"\\nConfusion Matrix:\\n\")\n",
        "c"
      ],
      "execution_count": 7,
      "outputs": [
        {
          "output_type": "stream",
          "name": "stdout",
          "text": [
            "Accuracy: 0.75\n",
            "\n",
            "Confusion Matrix:\n",
            "\n"
          ]
        },
        {
          "output_type": "execute_result",
          "data": {
            "text/plain": [
              "array([[1, 0],\n",
              "       [1, 2]])"
            ]
          },
          "metadata": {},
          "execution_count": 7
        }
      ]
    },
    {
      "cell_type": "code",
      "metadata": {
        "colab": {
          "base_uri": "https://localhost:8080/"
        },
        "id": "d5Lr0LrsTP82",
        "outputId": "cb1d5114-b58b-4998-d154-d054b6deded8"
      },
      "source": [
        "#Precision\n",
        "precision = precision_score(target_test, target_predict, average=None)\n",
        "print(\"Precision: {}\\n\".format(precision))\n",
        "\n",
        "#Recall\n",
        "recall = recall_score(target_test, target_predict, average=None)\n",
        "print(\"Recall: {}\\n\".format(recall))"
      ],
      "execution_count": 8,
      "outputs": [
        {
          "output_type": "stream",
          "name": "stdout",
          "text": [
            "Precision: [0.5 1. ]\n",
            "\n",
            "Recall: [1.         0.66666667]\n",
            "\n"
          ]
        }
      ]
    },
    {
      "cell_type": "code",
      "metadata": {
        "colab": {
          "base_uri": "https://localhost:8080/",
          "height": 110
        },
        "id": "baUWDMp9TgQx",
        "outputId": "408c9e87-540c-43ca-8d73-7184349d03cc"
      },
      "source": [
        "# (1) What will be the value of Play, if Outlook is ’Rainy’, Temperature is ’Mild’, Humidity =’Normal’, and Wind = ’False’?\n",
        "\n",
        "q1 = [0,1,0,0,0,1,0,1,1,0] # Overcast Rainy Sunny Cool Hot Mild High Normal False True\n",
        "\n",
        "# (2) What will be the value of Play, if Outlook is ’Sunny’, Temeprature is ’Cool’, Humidity =’High’, and Wind = ’True’?\n",
        "\n",
        "q2 = [0,0,1,1,0,0,1,0,0,1] # Overcast Rainy Sunny Cool Hot Mild High Normal False True\n",
        "\n",
        "\n",
        "\n",
        "features = dataset.columns.tolist()\n",
        "features.remove(\"Play\")\n",
        "df = pd.DataFrame([q1,q2], columns = features)\n",
        "df.head()"
      ],
      "execution_count": 9,
      "outputs": [
        {
          "output_type": "execute_result",
          "data": {
            "text/html": [
              "<div>\n",
              "<style scoped>\n",
              "    .dataframe tbody tr th:only-of-type {\n",
              "        vertical-align: middle;\n",
              "    }\n",
              "\n",
              "    .dataframe tbody tr th {\n",
              "        vertical-align: top;\n",
              "    }\n",
              "\n",
              "    .dataframe thead th {\n",
              "        text-align: right;\n",
              "    }\n",
              "</style>\n",
              "<table border=\"1\" class=\"dataframe\">\n",
              "  <thead>\n",
              "    <tr style=\"text-align: right;\">\n",
              "      <th></th>\n",
              "      <th>Outlook_Overcast</th>\n",
              "      <th>Outlook_Rainy</th>\n",
              "      <th>Outlook_Sunny</th>\n",
              "      <th>Temperature_Cool</th>\n",
              "      <th>Temperature_Hot</th>\n",
              "      <th>Temperature_Mild</th>\n",
              "      <th>Humidity_High</th>\n",
              "      <th>Humidity_Normal</th>\n",
              "      <th>Wind_False</th>\n",
              "      <th>Wind_True</th>\n",
              "    </tr>\n",
              "  </thead>\n",
              "  <tbody>\n",
              "    <tr>\n",
              "      <th>0</th>\n",
              "      <td>0</td>\n",
              "      <td>1</td>\n",
              "      <td>0</td>\n",
              "      <td>0</td>\n",
              "      <td>0</td>\n",
              "      <td>1</td>\n",
              "      <td>0</td>\n",
              "      <td>1</td>\n",
              "      <td>1</td>\n",
              "      <td>0</td>\n",
              "    </tr>\n",
              "    <tr>\n",
              "      <th>1</th>\n",
              "      <td>0</td>\n",
              "      <td>0</td>\n",
              "      <td>1</td>\n",
              "      <td>1</td>\n",
              "      <td>0</td>\n",
              "      <td>0</td>\n",
              "      <td>1</td>\n",
              "      <td>0</td>\n",
              "      <td>0</td>\n",
              "      <td>1</td>\n",
              "    </tr>\n",
              "  </tbody>\n",
              "</table>\n",
              "</div>"
            ],
            "text/plain": [
              "   Outlook_Overcast  Outlook_Rainy  ...  Wind_False  Wind_True\n",
              "0                 0              1  ...           1          0\n",
              "1                 0              0  ...           0          1\n",
              "\n",
              "[2 rows x 10 columns]"
            ]
          },
          "metadata": {},
          "execution_count": 9
        }
      ]
    },
    {
      "cell_type": "code",
      "metadata": {
        "colab": {
          "base_uri": "https://localhost:8080/"
        },
        "id": "QuCDUR32TrPd",
        "outputId": "f8602874-4285-402a-cef6-5066734d7d42"
      },
      "source": [
        "res = DT.predict(df)\n",
        "print(\"Prediction:\\nq1: {}\\nq2: {}\".format(res[0], res[1]))"
      ],
      "execution_count": 10,
      "outputs": [
        {
          "output_type": "stream",
          "name": "stdout",
          "text": [
            "Prediction:\n",
            "q1: Yes\n",
            "q2: No\n"
          ]
        }
      ]
    }
  ]
}