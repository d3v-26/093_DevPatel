{
  "nbformat": 4,
  "nbformat_minor": 0,
  "metadata": {
    "colab": {
      "name": "Lab_1_2.ipynb",
      "provenance": [],
      "collapsed_sections": []
    },
    "kernelspec": {
      "name": "python3",
      "display_name": "Python 3"
    },
    "language_info": {
      "name": "python"
    }
  },
  "cells": [
    {
      "cell_type": "code",
      "metadata": {
        "colab": {
          "base_uri": "https://localhost:8080/"
        },
        "id": "Wytm29pC8GxP",
        "outputId": "d5fa622d-6176-49b0-a3d6-c29ae51ee7d1"
      },
      "source": [
        "from google.colab import drive\n",
        "drive.mount(\"/content/drive\")"
      ],
      "execution_count": 6,
      "outputs": [
        {
          "output_type": "stream",
          "name": "stdout",
          "text": [
            "Mounted at /content/drive\n"
          ]
        }
      ]
    },
    {
      "cell_type": "code",
      "metadata": {
        "id": "NLhsXKXm8wDd"
      },
      "source": [
        "import numpy as np\n",
        "import pandas as pd"
      ],
      "execution_count": 1,
      "outputs": []
    },
    {
      "cell_type": "code",
      "metadata": {
        "colab": {
          "base_uri": "https://localhost:8080/"
        },
        "id": "YrMwOlBi9RHU",
        "outputId": "fefd101d-16ec-4cbb-f531-d0a32f82f465"
      },
      "source": [
        "array1 = np.random.rand(3, 2)\n",
        "array2 = np.random.rand(2, 3)\n",
        "print(array1)\n",
        "print(array2)"
      ],
      "execution_count": 2,
      "outputs": [
        {
          "output_type": "stream",
          "name": "stdout",
          "text": [
            "[[0.08223636 0.05119363]\n",
            " [0.07993986 0.42465063]\n",
            " [0.5732374  0.37152218]]\n",
            "[[0.98331106 0.35698749 0.0372601 ]\n",
            " [0.34163183 0.85270123 0.87321352]]\n"
          ]
        }
      ]
    },
    {
      "cell_type": "code",
      "metadata": {
        "colab": {
          "base_uri": "https://localhost:8080/"
        },
        "id": "pGD17M4e9t9Z",
        "outputId": "c6c6b00e-0763-45bb-fbdd-21314da3481a"
      },
      "source": [
        "mul = np.dot(array1, array2)\n",
        "print(mul)"
      ],
      "execution_count": 3,
      "outputs": [
        {
          "output_type": "stream",
          "name": "stdout",
          "text": [
            "[[0.0983533  0.07301023 0.04776711]\n",
            " [0.22367991 0.39063764 0.37378924]\n",
            " [0.69059448 0.521436   0.34577708]]\n"
          ]
        }
      ]
    },
    {
      "cell_type": "code",
      "metadata": {
        "colab": {
          "base_uri": "https://localhost:8080/"
        },
        "id": "mCT8XbnA926h",
        "outputId": "4cfe1612-4132-46fb-eb6c-6fdfe463057e"
      },
      "source": [
        "res = [[0 for x in range(len(array1))] for y in range(len(array2[0]))]\n",
        "\n",
        "for i in range(len(array1)): \n",
        "  for j in range(len(array2[0])): \n",
        "    for k in range(len(array2)): \n",
        "      res[i][j] += array1[i][k] * array2[k][j]\n",
        " \n",
        "print (res) "
      ],
      "execution_count": 4,
      "outputs": [
        {
          "output_type": "stream",
          "name": "stdout",
          "text": [
            "[[0.09835330122666192, 0.07301022726496462, 0.04776710828882118], [0.22367991395274983, 0.39063764085213243, 0.37378923980752615], [0.6905944759774237, 0.5214360003562968, 0.34577707772347255]]\n"
          ]
        }
      ]
    },
    {
      "cell_type": "code",
      "metadata": {
        "colab": {
          "base_uri": "https://localhost:8080/"
        },
        "id": "pmbcqzXg-SsJ",
        "outputId": "6ae20aca-ac6b-42b8-a832-a2933b22f354"
      },
      "source": [
        "mean = np.mean(array1)\n",
        "print(mean)"
      ],
      "execution_count": 5,
      "outputs": [
        {
          "output_type": "stream",
          "name": "stdout",
          "text": [
            "0.26379667678830915\n"
          ]
        }
      ]
    },
    {
      "cell_type": "code",
      "metadata": {
        "id": "AOi7uQv-SdIm"
      },
      "source": [
        "main_data = pd.read_csv(\"/content/drive/MyDrive/mtcars.csv\")"
      ],
      "execution_count": 7,
      "outputs": []
    },
    {
      "cell_type": "code",
      "metadata": {
        "colab": {
          "base_uri": "https://localhost:8080/"
        },
        "id": "WQvwWW_ATFPq",
        "outputId": "f4bf1e91-724d-4478-cf8f-6cc073f9197a"
      },
      "source": [
        "del main_data['model']\n",
        "# Mean Centered\n",
        "meancenter = main_data.apply(lambda e: e - e.mean())\n",
        "print(meancenter.head())\n"
      ],
      "execution_count": 8,
      "outputs": [
        {
          "output_type": "stream",
          "name": "stdout",
          "text": [
            "        mpg     cyl        disp       hp  ...      vs       am    gear    carb\n",
            "0  0.909375 -0.1875  -70.721875 -36.6875  ... -0.4375  0.59375  0.3125  1.1875\n",
            "1  0.909375 -0.1875  -70.721875 -36.6875  ... -0.4375  0.59375  0.3125  1.1875\n",
            "2  2.709375 -2.1875 -122.721875 -53.6875  ...  0.5625  0.59375  0.3125 -1.8125\n",
            "3  1.309375 -0.1875   27.278125 -36.6875  ...  0.5625 -0.40625 -0.6875 -1.8125\n",
            "4 -1.390625  1.8125  129.278125  28.3125  ... -0.4375 -0.40625 -0.6875 -0.8125\n",
            "\n",
            "[5 rows x 11 columns]\n"
          ]
        }
      ]
    },
    {
      "cell_type": "code",
      "metadata": {
        "id": "yLR1NUfNUDvX"
      },
      "source": [
        ""
      ],
      "execution_count": null,
      "outputs": []
    }
  ]
}